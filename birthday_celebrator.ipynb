{
 "cells": [
  {
   "cell_type": "markdown",
   "metadata": {},
   "source": [
    "# The Birthday Celebrator!"
   ]
  },
  {
   "cell_type": "code",
   "execution_count": 3,
   "metadata": {},
   "outputs": [],
   "source": [
    "import time # to sleep\n",
    "from datetime import datetime # birthday calculation\n",
    "from datetime import date # learning today\n",
    "import webbrowser as wb #url opering\n",
    "from functools import wraps #decorator"
   ]
  },
  {
   "cell_type": "code",
   "execution_count": null,
   "metadata": {},
   "outputs": [],
   "source": [
    "date_of_birth = datetime.strptime(input('Please, enter the \"birthday\" of whom will be celebrated by you. \"DD.MM.YYYY\"): '), \"%d.%m.%Y\") #getting birth date.\n",
    "birthday_person = str(input('Please enter a \"name\" of whose birthday this is: ')).capitalize() #getting name and capitalize it.\n",
    "\n",
    "\n",
    "# calculating the age of birthday person.\n",
    "def calculate_age(born):\n",
    "    today = date.today()\n",
    "    return today.year - born.year - ((today.month, today.day) < (born.month, born.day))\n",
    "\n",
    "age = calculate_age(date_of_birth)\n",
    "age_sec = datetime.now() - date_of_birth\n",
    "\n",
    "\n",
    "# celebration decorator\n",
    "def celebrator(orig_func):\n",
    "    @wraps(orig_func)\n",
    "    def wrapper(*args, **kwargs):\n",
    "        w_max = \"*\"*150\n",
    "        print(f\"{w_max}\\t\\n\\t{orig_func(*args, **kwargs)}\\t\\n{w_max}\")\n",
    "    return wrapper\n",
    "\n",
    "\n",
    "# birthday congratulatory address\n",
    "@celebrator\n",
    "def birthday(age):\n",
    "    w_min = \"*\"*10\n",
    "    return f\"{w_min}Happy birthday, {birthday_person}! You've survived {age_sec.total_seconds()} seconds from now on. Have magnificent {age} with your loved ones{w_min}\"\n",
    "\n",
    "# Celebration starts here...\n",
    "birthday(age)\n",
    "time.sleep(5) # so printed text can be read easily by everyone who is literated.\n",
    "\n",
    "# A final countdown!\n",
    "for countdown in range(age, 0, -1):\n",
    "    print(countdown)\n",
    "    if age < 5:\n",
    "        time.sleep(3.3) # you have more time\n",
    "    elif 5 < age < 10:\n",
    "        time.sleep(1.25) # when you're a child\n",
    "    elif 10 < age < 20:\n",
    "        time.sleep(.86) # but when you grow\n",
    "    elif 20 < age < 30:\n",
    "        time.sleep(.55) # older and older\n",
    "    elif 30 < age < 50:\n",
    "        time.sleep(.33) # time works for relativity\n",
    "    else:\n",
    "        time.sleep(0.11) # time flies like an arrow; fruit flies like a banana!\n",
    "        \n",
    "# Just a random funny birthday celebration song which is created by Ata Demirer the Turkish stand up comedian.\n",
    "url = \"https://www.youtube.com/watch?v=04V7Llpn6iM\"\n",
    "wb.open(url, new=2)"
   ]
  }
 ],
 "metadata": {
  "kernelspec": {
   "display_name": "Python 3",
   "language": "python",
   "name": "python3"
  },
  "language_info": {
   "codemirror_mode": {
    "name": "ipython",
    "version": 3
   },
   "file_extension": ".py",
   "mimetype": "text/x-python",
   "name": "python",
   "nbconvert_exporter": "python",
   "pygments_lexer": "ipython3",
   "version": "3.7.7-final"
  }
 },
 "nbformat": 4,
 "nbformat_minor": 2
}